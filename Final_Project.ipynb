{
  "nbformat": 4,
  "nbformat_minor": 0,
  "metadata": {
    "colab": {
      "provenance": [],
      "authorship_tag": "ABX9TyOAwESRolRG6uXus55MBW67",
      "include_colab_link": true
    },
    "kernelspec": {
      "name": "python3",
      "display_name": "Python 3"
    },
    "language_info": {
      "name": "python"
    }
  },
  "cells": [
    {
      "cell_type": "markdown",
      "metadata": {
        "id": "view-in-github",
        "colab_type": "text"
      },
      "source": [
        "<a href=\"https://colab.research.google.com/github/aladd2021/FinalprojectUR4/blob/main/Final_Project.ipynb\" target=\"_parent\"><img src=\"https://colab.research.google.com/assets/colab-badge.svg\" alt=\"Open In Colab\"/></a>"
      ]
    },
    {
      "cell_type": "markdown",
      "source": [
        "Unified Robotics 4 Final Project - Costa and Angela"
      ],
      "metadata": {
        "id": "h5szPTVyzAzF"
      }
    },
    {
      "cell_type": "markdown",
      "source": [
        "Add Libraries"
      ],
      "metadata": {
        "id": "UzjKkn9LzMww"
      }
    },
    {
      "cell_type": "code",
      "execution_count": null,
      "metadata": {
        "colab": {
          "base_uri": "https://localhost:8080/"
        },
        "id": "eo3Ag_T-yjXC",
        "outputId": "ea170432-48f0-4c60-e577-9320646addff"
      },
      "outputs": [
        {
          "output_type": "stream",
          "name": "stdout",
          "text": [
            "Collecting scikit-surprise\n",
            "  Downloading scikit_surprise-1.1.4.tar.gz (154 kB)\n",
            "\u001b[?25l     \u001b[90m━━━━━━━━━━━━━━━━━━━━━━━━━━━━━━━━━━━━━━━━\u001b[0m \u001b[32m0.0/154.4 kB\u001b[0m \u001b[31m?\u001b[0m eta \u001b[36m-:--:--\u001b[0m\r\u001b[2K     \u001b[90m━━━━━━━━━━━━━━━━━━━━━━━━━━━━━━━━━━━━━━━━\u001b[0m \u001b[32m154.4/154.4 kB\u001b[0m \u001b[31m9.3 MB/s\u001b[0m eta \u001b[36m0:00:00\u001b[0m\n",
            "\u001b[?25h  Installing build dependencies ... \u001b[?25l\u001b[?25hdone\n",
            "  Getting requirements to build wheel ... \u001b[?25l\u001b[?25hdone\n",
            "  Preparing metadata (pyproject.toml) ... \u001b[?25l\u001b[?25hdone\n",
            "Requirement already satisfied: joblib>=1.2.0 in /usr/local/lib/python3.10/dist-packages (from scikit-surprise) (1.4.2)\n",
            "Requirement already satisfied: numpy>=1.19.5 in /usr/local/lib/python3.10/dist-packages (from scikit-surprise) (1.26.4)\n",
            "Requirement already satisfied: scipy>=1.6.0 in /usr/local/lib/python3.10/dist-packages (from scikit-surprise) (1.13.1)\n",
            "Building wheels for collected packages: scikit-surprise\n",
            "  Building wheel for scikit-surprise (pyproject.toml) ... \u001b[?25l\u001b[?25hdone\n",
            "  Created wheel for scikit-surprise: filename=scikit_surprise-1.1.4-cp310-cp310-linux_x86_64.whl size=2357282 sha256=2703038ba9fe1234d5e285bea76e57d1942e941ad5e7089fd4ba2a82fc077b54\n",
            "  Stored in directory: /root/.cache/pip/wheels/4b/3f/df/6acbf0a40397d9bf3ff97f582cc22fb9ce66adde75bc71fd54\n",
            "Successfully built scikit-surprise\n",
            "Installing collected packages: scikit-surprise\n",
            "Successfully installed scikit-surprise-1.1.4\n"
          ]
        }
      ],
      "source": [
        "import pandas as pd\n",
        "import numpy as np\n",
        "from sklearn.feature_extraction.text import TfidfVectorizer\n",
        "from sklearn.metrics.pairwise import cosine_similarity\n",
        "!pip install scikit-surprise\n",
        "from surprise import Dataset, Reader, SVD\n",
        "from surprise.model_selection import cross_validate, train_test_split\n",
        "import matplotlib.pyplot as plt\n"
      ]
    },
    {
      "cell_type": "markdown",
      "source": [
        "Load Dataset"
      ],
      "metadata": {
        "id": "_D7tH1uoy_ZO"
      }
    },
    {
      "cell_type": "code",
      "source": [
        "# Load the movies dataset\n",
        "movies = pd.read_csv('u.item', sep='|', encoding='latin-1', header=None,\n",
        "                     names=['MovieID', 'Title', 'ReleaseDate', 'VideoReleaseDate', 'IMDbURL', 'Unknown',\n",
        "                            'Action', 'Adventure', 'Animation', \"Children's\", 'Comedy', 'Crime',\n",
        "                            'Documentary', 'Drama', 'Fantasy', 'Film-Noir', 'Horror', 'Musical',\n",
        "                            'Mystery', 'Romance', 'Sci-Fi', 'Thriller', 'War', 'Western'])\n",
        "\n",
        "# Load the ratings dataset\n",
        "ratings = pd.read_csv('u.data', sep='\\t', header=None,\n",
        "                      names=['UserID', 'MovieID', 'Rating', 'Timestamp'])\n",
        "\n",
        "# Preview the datasets\n",
        "print(movies.head())\n",
        "print(ratings.head())\n"
      ],
      "metadata": {
        "colab": {
          "base_uri": "https://localhost:8080/"
        },
        "id": "tzwXxhNazL8w",
        "outputId": "6624d221-48bb-4403-e7b7-4f290ffc8c57"
      },
      "execution_count": null,
      "outputs": [
        {
          "output_type": "stream",
          "name": "stdout",
          "text": [
            "   MovieID              Title  ReleaseDate  VideoReleaseDate  \\\n",
            "0        1   Toy Story (1995)  01-Jan-1995               NaN   \n",
            "1        2   GoldenEye (1995)  01-Jan-1995               NaN   \n",
            "2        3  Four Rooms (1995)  01-Jan-1995               NaN   \n",
            "3        4  Get Shorty (1995)  01-Jan-1995               NaN   \n",
            "4        5     Copycat (1995)  01-Jan-1995               NaN   \n",
            "\n",
            "                                             IMDbURL  Unknown  Action  \\\n",
            "0  http://us.imdb.com/M/title-exact?Toy%20Story%2...        0       0   \n",
            "1  http://us.imdb.com/M/title-exact?GoldenEye%20(...        0       1   \n",
            "2  http://us.imdb.com/M/title-exact?Four%20Rooms%...        0       0   \n",
            "3  http://us.imdb.com/M/title-exact?Get%20Shorty%...        0       1   \n",
            "4  http://us.imdb.com/M/title-exact?Copycat%20(1995)        0       0   \n",
            "\n",
            "   Adventure  Animation  Children's  ...  Fantasy  Film-Noir  Horror  Musical  \\\n",
            "0          0          1           1  ...        0          0       0        0   \n",
            "1          1          0           0  ...        0          0       0        0   \n",
            "2          0          0           0  ...        0          0       0        0   \n",
            "3          0          0           0  ...        0          0       0        0   \n",
            "4          0          0           0  ...        0          0       0        0   \n",
            "\n",
            "   Mystery  Romance  Sci-Fi  Thriller  War  Western  \n",
            "0        0        0       0         0    0        0  \n",
            "1        0        0       0         1    0        0  \n",
            "2        0        0       0         1    0        0  \n",
            "3        0        0       0         0    0        0  \n",
            "4        0        0       0         1    0        0  \n",
            "\n",
            "[5 rows x 24 columns]\n",
            "   UserID  MovieID  Rating  Timestamp\n",
            "0     196      242       3  881250949\n",
            "1     186      302       3  891717742\n",
            "2      22      377       1  878887116\n",
            "3     244       51       2  880606923\n",
            "4     166      346       1  886397596\n"
          ]
        }
      ]
    },
    {
      "cell_type": "markdown",
      "source": [
        "Collaborative Filtering"
      ],
      "metadata": {
        "id": "zSMikcePzZzt"
      }
    },
    {
      "cell_type": "code",
      "source": [
        "# Prepare the dataset for surprise\n",
        "reader = Reader(rating_scale=(1, 5))\n",
        "data = Dataset.load_from_df(ratings[['UserID', 'MovieID', 'Rating']], reader)\n",
        "\n",
        "# Train-Test Split\n",
        "trainset, testset = train_test_split(data, test_size=0.2)\n",
        "\n",
        "# Train a collaborative filtering model using SVD\n",
        "svd_model = SVD()\n",
        "svd_model.fit(trainset)\n",
        "\n",
        "# Evaluate on the test set\n",
        "predictions = svd_model.test(testset)\n",
        "print(\"Collaborative Filtering RMSE:\")\n",
        "rmse(predictions)\n"
      ],
      "metadata": {
        "colab": {
          "base_uri": "https://localhost:8080/"
        },
        "id": "BzOFiWmVzaB5",
        "outputId": "e18d1902-1d9c-49a8-de37-7c5703f71340"
      },
      "execution_count": null,
      "outputs": [
        {
          "output_type": "stream",
          "name": "stdout",
          "text": [
            "Collaborative Filtering RMSE:\n",
            "RMSE: 0.9388\n"
          ]
        },
        {
          "output_type": "execute_result",
          "data": {
            "text/plain": [
              "0.9387654364767528"
            ]
          },
          "metadata": {},
          "execution_count": 11
        }
      ]
    },
    {
      "cell_type": "markdown",
      "source": [
        "Organize Data"
      ],
      "metadata": {
        "id": "hrkKJ9Mjzqix"
      }
    },
    {
      "cell_type": "code",
      "source": [
        "# Combine genres into a single string for each movie\n",
        "movies['GenreString'] = movies[['Action', 'Adventure', 'Animation', \"Children's\", 'Comedy', 'Crime',\n",
        "                                'Documentary', 'Drama', 'Fantasy', 'Film-Noir', 'Horror', 'Musical',\n",
        "                                'Mystery', 'Romance', 'Sci-Fi', 'Thriller', 'War', 'Western']].apply(\n",
        "    lambda x: ' '.join(x.index[x == 1]), axis=1)\n",
        "\n",
        "# Compute TF-IDF vectors for genres\n",
        "tfidf = TfidfVectorizer(stop_words='english')\n",
        "tfidf_matrix = tfidf.fit_transform(movies['GenreString'])\n",
        "\n",
        "# Calculate cosine similarity\n",
        "cosine_sim = cosine_similarity(tfidf_matrix, tfidf_matrix)\n",
        "\n",
        "# Function to recommend movies based on content similarity\n",
        "def content_recommendation(movie_title, cosine_sim=cosine_sim):\n",
        "    # Get the index of the movie\n",
        "    idx = movies[movies['Title'] == movie_title].index[0]\n",
        "\n",
        "    # Get pairwise similarity scores for all movies\n",
        "    sim_scores = list(enumerate(cosine_sim[idx]))\n",
        "\n",
        "    # Sort movies based on similarity scores\n",
        "    sim_scores = sorted(sim_scores, key=lambda x: x[1], reverse=True)\n",
        "\n",
        "    # Get the top 10 most similar movies\n",
        "    sim_scores = sim_scores[1:11]\n",
        "\n",
        "    # Get movie indices\n",
        "    movie_indices = [i[0] for i in sim_scores]\n",
        "\n",
        "    # Return the titles of the top 10 movies\n",
        "    return movies['Title'].iloc[movie_indices]\n",
        "\n",
        "# Test the content-based filtering\n",
        "print(\"Content-Based Recommendations for 'Toy Story (1995)':\")\n",
        "print(content_recommendation('Toy Story (1995)'))\n"
      ],
      "metadata": {
        "colab": {
          "base_uri": "https://localhost:8080/"
        },
        "id": "WbTJP7KJzq3p",
        "outputId": "a2746fc5-6a4f-415a-bc50-944c898a1e6d"
      },
      "execution_count": null,
      "outputs": [
        {
          "output_type": "stream",
          "name": "stdout",
          "text": [
            "Content-Based Recommendations for 'Toy Story (1995)':\n",
            "421                Aladdin and the King of Thieves (1996)\n",
            "101                                Aristocats, The (1970)\n",
            "403                                      Pinocchio (1940)\n",
            "624                        Sword in the Stone, The (1963)\n",
            "945                         Fox and the Hound, The (1981)\n",
            "968           Winnie the Pooh and the Blustery Day (1968)\n",
            "1065                                         Balto (1995)\n",
            "1077                              Oliver & Company (1988)\n",
            "1408                            Swan Princess, The (1994)\n",
            "1411    Land Before Time III: The Time of the Great Gi...\n",
            "Name: Title, dtype: object\n"
          ]
        }
      ]
    },
    {
      "cell_type": "markdown",
      "source": [
        "Hybrid Filtering"
      ],
      "metadata": {
        "id": "i-Qdh99rzw9r"
      }
    },
    {
      "cell_type": "code",
      "source": [
        "# Hybrid recommendation: Combine collaborative and content-based predictions\n",
        "def hybrid_recommendation(user_id, movie_title, svd_model, cosine_sim=cosine_sim):\n",
        "    # Collaborative filtering prediction\n",
        "    collaborative_score = svd_model.predict(user_id,\n",
        "        movies[movies['Title'] == movie_title].iloc[0]['MovieID']).est\n",
        "\n",
        "    # Content-based recommendation\n",
        "    content_movies = content_recommendation(movie_title, cosine_sim)\n",
        "\n",
        "    # Combine scores\n",
        "    hybrid_results = []\n",
        "    for idx, content_movie in enumerate(content_movies):\n",
        "        movie_id = movies[movies['Title'] == content_movie]['MovieID'].values[0]\n",
        "        hybrid_results.append((content_movie, collaborative_score - (idx * 0.1)))  # Penalize by position\n",
        "\n",
        "    # Sort combined scores\n",
        "    hybrid_results = sorted(hybrid_results, key=lambda x: x[1], reverse=True)\n",
        "    return hybrid_results[:10]\n",
        "\n",
        "# Example hybrid recommendation\n",
        "print(\"Hybrid Recommendations for User 1 and 'Toy Story (1995)':\")\n",
        "print(hybrid_recommendation(1, 'Toy Story (1995)', svd_model))\n"
      ],
      "metadata": {
        "colab": {
          "base_uri": "https://localhost:8080/"
        },
        "id": "ue_KOo1_zvyT",
        "outputId": "b64eead0-59d4-4292-e21d-e32ace5c945b"
      },
      "execution_count": null,
      "outputs": [
        {
          "output_type": "stream",
          "name": "stdout",
          "text": [
            "Hybrid Recommendations for User 1 and 'Toy Story (1995)':\n",
            "[('Aladdin and the King of Thieves (1996)', 4.757071316195804), ('Aristocats, The (1970)', 4.657071316195804), ('Pinocchio (1940)', 4.557071316195803), ('Sword in the Stone, The (1963)', 4.457071316195804), ('Fox and the Hound, The (1981)', 4.357071316195803), ('Winnie the Pooh and the Blustery Day (1968)', 4.257071316195804), ('Balto (1995)', 4.157071316195804), ('Oliver & Company (1988)', 4.057071316195803), ('Swan Princess, The (1994)', 3.9570713161958038), ('Land Before Time III: The Time of the Great Giving (1995) (V)', 3.8570713161958037)]\n"
          ]
        }
      ]
    },
    {
      "cell_type": "markdown",
      "source": [
        "print Results"
      ],
      "metadata": {
        "id": "31JmdqCvzvno"
      }
    },
    {
      "cell_type": "code",
      "source": [
        "# Example results for visualization\n",
        "methods = ['Collaborative', 'Content-Based', 'Hybrid']\n",
        "rmse_scores = [0.92, 1.02, 0.88]  # Example RMSE values\n",
        "\n",
        "plt.bar(methods, rmse_scores)\n",
        "plt.title('Comparison of RMSE Across Methods')\n",
        "plt.xlabel('Recommendation Method')\n",
        "plt.ylabel('RMSE')\n",
        "plt.show()\n"
      ],
      "metadata": {
        "colab": {
          "base_uri": "https://localhost:8080/",
          "height": 472
        },
        "id": "CcNC_Cj2z1P_",
        "outputId": "ccc2efa9-bffe-4d70-8783-dacb2a5c8e65"
      },
      "execution_count": null,
      "outputs": [
        {
          "output_type": "display_data",
          "data": {
            "text/plain": [
              "<Figure size 640x480 with 1 Axes>"
            ],
            "image/png": "[encoded data removed]"
          },
          "metadata": {}
        }
      ]
    }
  ]
}